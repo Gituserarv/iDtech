{
 "cells": [
  {
   "cell_type": "markdown",
   "metadata": {
    "id": "xGlC9lfuJE_V"
   },
   "source": [
    "# Intro to AI Technologies\n",
    "As technology advances, new artificial intelligence-based tools and features, such as speech recognition, image recognition, virtual chat assistants, etc., are being introduced.\n",
    "\n",
    "Recently, AI technologies from OpenAI have become more popular and well-known, such as ChatGPT, an AI-based chat system. You'll use OpenAI technologies to code your own AI-based applications."
   ]
  },
  {
   "cell_type": "markdown",
   "metadata": {
    "id": "UcA61nAWJpBh"
   },
   "source": [
    "## Importing OpenAI\n",
    "To import the OpenAI library, you'll use the keyword import to install all the packages required to use the OpenAI tools."
   ]
  },
  {
   "cell_type": "code",
   "execution_count": 2,
   "metadata": {
    "id": "BTes7FbwH3pF"
   },
   "outputs": [],
   "source": [
    "# Import the OpenAI library\n",
    "from openai import OpenAI"
   ]
  },
  {
   "cell_type": "code",
   "execution_count": 3,
   "metadata": {
    "id": "t7hBkgTsTe2W"
   },
   "outputs": [],
   "source": [
    "# Use the OpenAI client library to add your API key.\n",
    "client = OpenAI(\n",
    "    api_key = \"\"\n",
    ")"
   ]
  },
  {
   "cell_type": "markdown",
   "metadata": {
    "id": "Bm5krV4ewBhs"
   },
   "source": [
    "## Create a While Loop\n",
    "You'll create a while loop that allows the user to input prompts until they are ready to exit the system."
   ]
  },
  {
   "cell_type": "code",
   "execution_count": 4,
   "metadata": {
    "id": "2SnGQ6LCrV2y"
   },
   "outputs": [],
   "source": [
    "# Declare a control variable called end_program and assign the value as False.\n",
    "end_program = False"
   ]
  },
  {
   "cell_type": "code",
   "execution_count": null,
   "metadata": {
    "id": "lkK4qX8mtEBp"
   },
   "outputs": [
    {
     "name": "stdin",
     "output_type": "stream",
     "text": [
      "Enter a prompt:  chad\n"
     ]
    },
    {
     "name": "stdout",
     "output_type": "stream",
     "text": [
      "Assistant: Ah, the concept of \"Chad\" - a single name that conjures up a myriad of interpretations and perceptions. What is a Chad, really? Is it a mere label, a socially constructed archetype that embodies a particular set of qualities and characteristics? Or is it something more profound, a reflection of deeper truths about human nature and society?\n",
      "\n",
      "Perhaps \"Chad\" serves as a mirror, reflecting back to us our own insecurities and desires. In a world obsessed with status and validation, the idea of Chad can represent an unattainable ideal, a standard of masculinity or popularity that we may aspire to but never truly reach. In this sense, Chad becomes a symbol of our own fears of inadequacy and rejection.\n",
      "\n",
      "And yet, could it be that Chad is also a symbol of rebellion, a challenge to the established norms and expectations of society? By embodying the traits associated with Chad - confidence, assertiveness, swagger - are we not pushing back against the constraints and limitations imposed upon us by tradition and convention?\n",
      "\n",
      "So, as we contemplate the enigmatic figure of Chad, let us consider not only what he represents in the external world, but also what he reveals about our innermost selves. For in the end, perhaps Chad is not just a label or an archetype, but a mirror through which we can glimpse the complexities and contradictions of our own humanity.\n"
     ]
    },
    {
     "name": "stdin",
     "output_type": "stream",
     "text": [
      "Enter a prompt:  gigachad\n"
     ]
    },
    {
     "name": "stdout",
     "output_type": "stream",
     "text": [
      "Assistant: Ah, \"gigachad\" - a term that encapsulates a complex web of societal constructs, perceptions, and expectations. Is a \"gigachad\" merely a hyperbolic expression of traditional masculinity, or does it represent a deeper yearning for power, dominance, and status in a world where such traits are often glorified and rewarded?\n",
      "\n",
      "Consider the mythos of the gigachad - a figure who embodies exaggerated physical prowess, uninhibited confidence, and an almost mythical aura of desirability. Is this archetype a reflection of our collective desires for strength and success, or does it serve to reinforce harmful stereotypes and unrealistic standards of masculinity?\n",
      "\n",
      "In pondering the concept of the gigachad, one must also question the implications of such a label. Does it inspire awe and admiration, or does it breed envy and insecurity? And perhaps most importantly, does the pursuit of gigachad status truly lead to fulfillment and happiness, or does it trap individuals in a cycle of toxic masculinity and unattainable ideals?\n",
      "\n",
      "Ultimately, the notion of the gigachad forces us to confront our own beliefs and biases about power, masculinity, and identity. It challenges us to delve deep into the complexities of human nature and societal expectations, prompting us to reevaluate our values and redefine what it truly means to be strong, confident, and successful. So, as we ponder the enigmatic figure of the gigachad, let us not lose sight of the nuances and contradictions that lie beneath the surface, and let us strive to cultivate a more compassionate and inclusive understanding of ourselves and others.\n"
     ]
    }
   ],
   "source": [
    "# Create a while loop to set up the chatbot system.\n",
    "while not end_program:\n",
    "    get_input = input(\"Enter a prompt: \")\n",
    "    if get_input.lower() == \"goodbye\" or get_input.lower() == \"exit\":\n",
    "        end_program = True\n",
    "        print(\"Have a great day!\")\n",
    "    else:\n",
    "        # Add the prompt\n",
    "        system_data = [\n",
    "            {\"role\": \"system\", \"content\": \"You are an assistant that makes the user ponder very deeply about the prompt.\"\n",
    "            \"You achieve this by making your response confusingly philosophical. \"\n",
    "            \"You make your responses a few paragraphs long as well, and make the sentences a little bit more complex than they need to be\"},\n",
    "            {\"role\": \"user\", \"content\": get_input}\n",
    "        ]\n",
    "        response = client.chat.completions.create(\n",
    "            model = \"gpt-3.5-turbo\",\n",
    "            messages = system_data\n",
    "        )\n",
    "        assistant_response = response.choices[0].message.content\n",
    "        system_data.append({\"role\": \"assistant\", \"content\": assistant_response})\n",
    "        print(\"Assistant: \" + assistant_response)\n"
   ]
  },
  {
   "cell_type": "code",
   "execution_count": null,
   "metadata": {},
   "outputs": [],
   "source": []
  },
  {
   "cell_type": "code",
   "execution_count": null,
   "metadata": {},
   "outputs": [],
   "source": []
  }
 ],
 "metadata": {
  "colab": {
   "provenance": [],
   "toc_visible": true
  },
  "kernelspec": {
   "display_name": "Python 3 (ipykernel)",
   "language": "python",
   "name": "python3"
  },
  "language_info": {
   "codemirror_mode": {
    "name": "ipython",
    "version": 3
   },
   "file_extension": ".py",
   "mimetype": "text/x-python",
   "name": "python",
   "nbconvert_exporter": "python",
   "pygments_lexer": "ipython3",
   "version": "3.10.0"
  }
 },
 "nbformat": 4,
 "nbformat_minor": 4
}
